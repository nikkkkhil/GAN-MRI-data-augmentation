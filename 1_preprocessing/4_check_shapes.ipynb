{
 "cells": [
  {
   "cell_type": "markdown",
   "metadata": {},
   "source": [
    "# Volumetric shape inspection\n",
    "\n",
    "The volumetric data do not have a single set of dimensions, i.e. heads are divided in different numbers of slices, and the slices do not always have fixed dimensions.\n",
    "\n",
    "This notebook finds all the different dimensions and the number of volumetric instances with said dimensions."
   ]
  },
  {
   "cell_type": "code",
   "execution_count": 1,
   "metadata": {},
   "outputs": [],
   "source": [
    "import nibabel as nib\n",
    "import numpy as np\n",
    "from pathlib import Path"
   ]
  },
  {
   "cell_type": "markdown",
   "metadata": {},
   "source": [
    "List all *.nii* files for either data type."
   ]
  },
  {
   "cell_type": "code",
   "execution_count": 2,
   "metadata": {},
   "outputs": [],
   "source": [
    "dtype = \"nor\" # dtype is either \"ad\" or \"nor\"\n",
    "p = Path(dtype)\n",
    "files = list(p.rglob('*.nii'))\n",
    "len(files)"
   ]
  },
  {
   "cell_type": "markdown",
   "metadata": {},
   "source": [
    "List all unique shapes and how many patients each shape corresponds to. "
   ]
  },
  {
   "cell_type": "code",
   "execution_count": 9,
   "metadata": {},
   "outputs": [],
   "source": [
    "shapes = []\n",
    "for file in files:\n",
    "    img = nib.load(str(file))\n",
    "    shapes.append(str(img.shape))\n",
    "\n",
    "shapes1 = list(set(shapes))"
   ]
  },
  {
   "cell_type": "code",
   "execution_count": 10,
   "metadata": {},
   "outputs": [
    {
     "name": "stdout",
     "output_type": "stream",
     "text": [
      "(192, 192, 160)        335\n",
      "(240, 256, 160)        61\n",
      "(248, 256, 160)        1\n",
      "(256, 256, 160)        2\n",
      "(256, 256, 166)        347\n"
     ]
    }
   ],
   "source": [
    "u, c = np.unique(shapes, return_counts=True)\n",
    "\n",
    "for x in zip(u, c):\n",
    "    print(x[0], '      ', x[1])"
   ]
  }
 ],
 "metadata": {
  "kernelspec": {
   "display_name": "Python 3",
   "language": "python",
   "name": "python3"
  },
  "language_info": {
   "codemirror_mode": {
    "name": "ipython",
    "version": 3
   },
   "file_extension": ".py",
   "mimetype": "text/x-python",
   "name": "python",
   "nbconvert_exporter": "python",
   "pygments_lexer": "ipython3",
   "version": "3.6.3"
  }
 },
 "nbformat": 4,
 "nbformat_minor": 2
}
